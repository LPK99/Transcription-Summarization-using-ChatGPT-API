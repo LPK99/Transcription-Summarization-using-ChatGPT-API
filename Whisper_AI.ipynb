{
 "cells": [
  {
   "cell_type": "code",
   "execution_count": 1,
   "id": "ff6bf32e",
   "metadata": {},
   "outputs": [],
   "source": [
    "from prompt_function import openai, whisper\n",
    "import api_key\n",
    "#import os"
   ]
  },
  {
   "cell_type": "code",
   "execution_count": 11,
   "id": "e7130758",
   "metadata": {},
   "outputs": [
    {
     "name": "stdout",
     "output_type": "stream",
     "text": [
      " In 2015, the Stanford Prison Experiment was released in theaters. The movie detailed the infamous 1971 experiment in which 24 college students were put in prison. Now while the experiment was supposed to last for two weeks, it was terminated after six days due to psychological effects that it was having on both the guards and the prisoners. So what actually happened during the Stanford Prison Experiment? Why is it so infamous? And does the movie get everything right or is it just a dramatization? This video will briefly explain the experiment, its impact on the world of psychology, and the controversy that it's facing 45 years in the future. So first off, what is the Stanford Prison Experiment? After Milgram's experiment rocked the world of psychology, many people were left with questions about obedience, power dynamics, and the abuse of power. Philip Zimbardo, a professor at Stanford, wanted to then explore these questions further. And with a grant from the Navy, Zimbardo set up something called the Stanford Prison Experiment. He wanted to see could a person's role influence their behavior. Zimbardo and his team interviewed 70 applicants at Stanford who were willing to participate in the study for 14 days and receive $15 a day. They wanted to make sure that they chose the brightest and the most mentally sound participants. And after narrowing down their applicants to 24, the researchers flipped the coin and assigned the roles. Half of the participants would be prisoners, and the other half would be guards. Now the researchers then set up a basement at Stanford to make it look like a real prison. They were very serious about treating the experiment like a simulation. Prisoners were actually arrested in public and taken into prison. They were even booked, fingerprinted, and strip searched. Now Zimbardo's team also gave prisoners numbers that were meant to be used instead of their real name. They claimed that it would help give the prisoners a sense of anonymity and help the experiment. Guards had pretty much free reign over how they could treat the prisoners, how they had two main rules. They could not hit the prisoners, and they could not put prisoners in solitary confinement for more than an hour. Phillips and Zimbardo played the role of the prison superintendent. His graduate students and research partners also played roles as members of the parole board and the prison warden. Prisoners were tasked with certain activities like writing a letter home to their visitors, and making a case to the parole board about why they should be let off. Guards also subjected the prisoners to counts in which they forced the prisoners to do jumping jacks, push-ups, and other degrading tasks. Now, it did not take long for these guards to start to abuse their power. Within one day, a guard actually hit one of the prisoners with his night stick. On the second day, the prisoners tried to rebel, and so their beds were taken away. To punish these prisoners, the guards shot a fire extinguisher into the cell. Guards used physical and psychological abuse, including things like sleep deprivation, to punish and intimidate the prisoners throughout the study. The prisoners were forced to wear dressings and stalking caps the whole time, and at some point, the guards would put bags over the prisoner's heads. And since the study has ended, it has since been compared to actions at the Abu Ghraim Detention Center. Zimbardo has written about the case and its parallels to the prison experiment since. So why did this experiment get shut down? Well, very quickly, the guards started to abuse their power. The prisoners started to spiral. On the third day, prisoner number 8612 started to cry and scream uncontrollably. He threatened to harm himself and call a lawyer. To avoid potential psychological damage or a lawsuit, he was let go. Two other prisoners were let go in the next two days. One actually refused to eat. And on the fifth day, Zimbardo's girlfriend, which was actually his former student, came to visit the experiment. Zimbardo and his team had been monitoring the experiment and playing their roles in it 24-7. And when she was saw the horrors that was going on in the prison, she asked Zimbardo to end the experiment immediately. She even threatened to break up with him. Well, eventually on the sixth day, he ended the experiment. This experiment showed the world how quickly people can abuse power when it's given to them. But it remains as one of the most controversial experiments in the world of psychology. And there's a few reasons why. The first one is obvious, and it's the case for psychological abuse that the prisoners endured during this study. Is it ethical to put human subjects through that kind of distress and trauma so much so that many couldn't even endure the experiment? Now, Zimbardo claims that none of the participants have suffered long-term psychological consequences, but the point still stands. In a more recent years, critics have come forward to say that the results were not as natural as Zimbardo and their team may want you to think. Transcripts and audio recordings from the Stanford Prison Experiment show that Zimbardo's team coached these guards. They told him to be tough for the safety of the experiment. Even the prisoners may have been faking their responses. Prisoner number 8612, who is most well known for his blood-curdling quote, I'm burning up inside. He has come forward to say that his time in the Stanford County jail was more of an improv exercise. Many critics have likened the experiment to a drama rather than a legitimate psychology experiment. Carlo Prescott, the experiment's prison consultant, has also come forward to say that the experiments more cruel treatments were not naturally thought up and executed by the guards alone. He wrote the following in an op-ed. Ideas such as bags being placed over the heads of prisoners, inmates being bound together with chains and buckets being used in place of toilets in their cells, were all experiences of mine at the old Spanish jail section of San Quentin, and which I doodifully shared with the Stanford Prison Experiment brain trust months before the experiment started. To alleged that all these carefully tested psychologically solid upper-middle-class Caucasian guards, dreamed this up on their own is absurd. So you can take that for what you will. But let's talk a little bit about the lasting effect of the Stanford Prison Experiment. It seems to have raised more questions than it answered. Where should psychologists draw the line when it comes to subjecting participants to distress for science? And how easily can psychologists blur the lines of an experiment versus a simulation or a drama? And if the Stanford Prison Experiment doesn't exactly answer its original questions about power dynamics and obedience, what similar experiments can? These are just some of the questions that psychologists face today about the experiment. Anyways, I hope you enjoyed this video and learned something about the Stanford Prison Experiment. If you have any questions at all, feel free to leave them below, or you can watch the rest of my videos on social psychology to learn a little bit more about how the human psyche works. Thanks for watching!\n"
     ]
    }
   ],
   "source": [
    "model = whisper.load_model(\"base\")\n",
    "result = model.transcribe(\"stanford_sample_audio.mp3\")\n",
    "print(result[\"text\"])\n",
    "openai.api_key = api_key.OPEN_AI_API_KEY"
   ]
  },
  {
   "cell_type": "code",
   "execution_count": 12,
   "id": "16080b78",
   "metadata": {},
   "outputs": [],
   "source": [
    "response = openai.ChatCompletion.create(\n",
    "  model='gpt-3.5-turbo',\n",
    "  messages=[\n",
    "        {\"role\": \"system\", \"content\": \"You are a professor . Summarize to all inputs in a short and concise paragraph.\"},\n",
    "        {\"role\": \"user\", \"content\": result[\"text\"]},\n",
    "    ]\n",
    ")"
   ]
  },
  {
   "cell_type": "code",
   "execution_count": 15,
   "id": "cab79fb8",
   "metadata": {},
   "outputs": [
    {
     "name": "stdout",
     "output_type": "stream",
     "text": [
      "The Stanford Prison Experiment, conducted in 1971 by Philip Zimbardo, aimed to explore the effects of power dynamics and obedience. 24 college students were selected and assigned as either prisoners or guards in a mock prison set up in the basement of Stanford University. The experiment was supposed to last for two weeks, but was terminated after just six days due to the psychological effects it was having on participants. The guards quickly began to abuse their power, subjecting the prisoners to physical and psychological abuse, including sleep deprivation and degradation. The experiment raised ethical concerns about the treatment of human subjects and the manipulation of results, and continues to be controversial. However, it remains an important and thought-provoking study in the field of psychology, raising questions about the limits of subjecting participants to distress for the sake of scientific inquiry.\n"
     ]
    }
   ],
   "source": [
    "summarize_text = response[\"choices\"][0][\"message\"][\"content\"]\n",
    "print(summarize_text)"
   ]
  }
 ],
 "metadata": {
  "kernelspec": {
   "display_name": "whisper_ai",
   "language": "python",
   "name": "whisper_ai"
  },
  "language_info": {
   "codemirror_mode": {
    "name": "ipython",
    "version": 3
   },
   "file_extension": ".py",
   "mimetype": "text/x-python",
   "name": "python",
   "nbconvert_exporter": "python",
   "pygments_lexer": "ipython3",
   "version": "3.10.9"
  }
 },
 "nbformat": 4,
 "nbformat_minor": 5
}
